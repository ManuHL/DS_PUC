{
 "cells": [
  {
   "cell_type": "code",
   "execution_count": 3,
   "metadata": {},
   "outputs": [
    {
     "name": "stderr",
     "output_type": "stream",
     "text": [
      "Loading required package: grid\n",
      "Loading required package: mvtnorm\n",
      "Loading required package: modeltools\n",
      "Loading required package: stats4\n",
      "Loading required package: strucchange\n",
      "Loading required package: zoo\n",
      "\n",
      "Attaching package: ‘zoo’\n",
      "\n",
      "The following objects are masked from ‘package:base’:\n",
      "\n",
      "    as.Date, as.Date.numeric\n",
      "\n",
      "Loading required package: sandwich\n",
      "\n",
      "Attaching package: ‘strucchange’\n",
      "\n",
      "The following object is masked from ‘package:stringr’:\n",
      "\n",
      "    boundary\n",
      "\n"
     ]
    }
   ],
   "source": [
    "suppressPackageStartupMessages(library(randomForest))\n",
    "library(tree)\n",
    "library(ISLR)\n",
    "library(rpart)\n",
    "suppressPackageStartupMessages(library(tidyverse))\n",
    "library(rpart.plot)\n",
    "library(party)\n",
    "library(gmodels) \n",
    "suppressPackageStartupMessages(library(caret))\n",
    "library(ggplot2)"
   ]
  },
  {
   "cell_type": "code",
   "execution_count": 4,
   "metadata": {},
   "outputs": [],
   "source": [
    "setwd(\"/samba/Shared/ModeloFuga/data\")"
   ]
  },
  {
   "cell_type": "code",
   "execution_count": 5,
   "metadata": {},
   "outputs": [],
   "source": [
    "datos <- read.table(\"DS14.csv\", sep = \";\", header = TRUE)"
   ]
  },
  {
   "cell_type": "code",
   "execution_count": 6,
   "metadata": {
    "scrolled": true
   },
   "outputs": [],
   "source": [
    "datostest <- read.table(\"DS201807.csv\", sep = \";\", header = TRUE)"
   ]
  },
  {
   "cell_type": "code",
   "execution_count": null,
   "metadata": {},
   "outputs": [],
   "source": [
    "summary(datos$FP)"
   ]
  },
  {
   "cell_type": "code",
   "execution_count": null,
   "metadata": {},
   "outputs": [],
   "source": [
    "datosPart = datosPart %>%filter(DESAF == \"NO\")"
   ]
  },
  {
   "cell_type": "code",
   "execution_count": null,
   "metadata": {},
   "outputs": [],
   "source": [
    "datosPart$DESAF = droplevels(datosPart$DESAF)"
   ]
  },
  {
   "cell_type": "code",
   "execution_count": null,
   "metadata": {},
   "outputs": [],
   "source": [
    "summary(datosPart$DESAF)\n",
    "table(datosPart$DESAF_FUT,datosPart$FP)"
   ]
  },
  {
   "cell_type": "code",
   "execution_count": null,
   "metadata": {},
   "outputs": [],
   "source": [
    "summary(datosPart$DESAF)\n",
    "table(datosPart$DESAF_FUT,datosPart$FP)"
   ]
  },
  {
   "cell_type": "code",
   "execution_count": 8,
   "metadata": {},
   "outputs": [],
   "source": [
    "#Particionar data para generar una base de testeo (80-20)\n",
    "inBuild <- createDataPartition(y = datosPart$DESAF, p = 0.8, list = FALSE)\n",
    "datos.train <- datosPart[inBuild,]\n",
    "datos.test <- datosPart[-inBuild,]"
   ]
  },
  {
   "cell_type": "code",
   "execution_count": null,
   "metadata": {},
   "outputs": [],
   "source": [
    "summary(datos.test$DESAF)\n",
    "table(datos.test$DESAF,datos.test$FP)"
   ]
  },
  {
   "cell_type": "code",
   "execution_count": 9,
   "metadata": {},
   "outputs": [],
   "source": [
    "#Balanceo data de entrenamiento\n",
    "datos.train.b = downSample(datos.train[,!colnames(datos.train)==\"DESAF\"], datos.train$DESAF, list = FALSE, yname = \"DESAF\")"
   ]
  },
  {
   "cell_type": "code",
   "execution_count": null,
   "metadata": {},
   "outputs": [],
   "source": [
    "summary(datos.train.b$DESAF)\n",
    "table(datos.train.b$DESAF,datos.train.b$FP)"
   ]
  },
  {
   "cell_type": "code",
   "execution_count": null,
   "metadata": {},
   "outputs": [],
   "source": [
    "summary(datos.train.b$DESAF_FUT)\n",
    "table(datos.train.b$DESAF_FUT,datos.train.b$FP)"
   ]
  },
  {
   "cell_type": "code",
   "execution_count": 10,
   "metadata": {},
   "outputs": [],
   "source": [
    "#RandomForest\n",
    "modelo = randomForest(DESAF~TIPO_PLAN+BENEF+RANGO_PACTADO+\n",
    "                        PACT_BENEF+TIPIFICACION+PERMANENCIA_BENEFICIOS+MESES_RESTANTES_ANUALIDAD+\n",
    "                        SEGMENTO+\n",
    "                        SEGMENTO_COMPLETO+\n",
    "                        ENTRADAS_SUC_3M+\n",
    "                        TIPO_TRABAJADOR+RENTA+MAX_CONTACTABILIDAD+ISAPRE_ORIGEN+CON_COMPLEMENTOS+\n",
    "                        NUMERO_COMPLEMENTOS+SEXO+\n",
    "                        SINIESTRALIDAD+TIPO_CONTRATO+\n",
    "                        EDAD,\n",
    "                        data = datos.train.b, ntree=500, mtry=6, replace=T,na.action = na.omit\n",
    "                      )"
   ]
  },
  {
   "cell_type": "code",
   "execution_count": 11,
   "metadata": {
    "scrolled": true
   },
   "outputs": [
    {
     "data": {
      "text/html": [
       "<table>\n",
       "<thead><tr><th></th><th scope=col>MeanDecreaseGini</th></tr></thead>\n",
       "<tbody>\n",
       "\t<tr><th scope=row>TIPO_PLAN</th><td> 1568.8883</td></tr>\n",
       "\t<tr><th scope=row>BENEF</th><td>  840.0163</td></tr>\n",
       "\t<tr><th scope=row>RANGO_PACTADO</th><td> 1925.0750</td></tr>\n",
       "\t<tr><th scope=row>PACT_BENEF</th><td> 9138.1668</td></tr>\n",
       "\t<tr><th scope=row>TIPIFICACION</th><td>  575.5643</td></tr>\n",
       "\t<tr><th scope=row>PERMANENCIA_BENEFICIOS</th><td> 8993.5789</td></tr>\n",
       "\t<tr><th scope=row>MESES_RESTANTES_ANUALIDAD</th><td> 4394.3677</td></tr>\n",
       "\t<tr><th scope=row>SEGMENTO</th><td>  368.7214</td></tr>\n",
       "\t<tr><th scope=row>SEGMENTO_COMPLETO</th><td> 1719.0779</td></tr>\n",
       "\t<tr><th scope=row>ENTRADAS_SUC_3M</th><td> 3290.9451</td></tr>\n",
       "\t<tr><th scope=row>TIPO_TRABAJADOR</th><td>  720.8177</td></tr>\n",
       "\t<tr><th scope=row>RENTA</th><td>10824.6017</td></tr>\n",
       "\t<tr><th scope=row>MAX_CONTACTABILIDAD</th><td> 1250.3937</td></tr>\n",
       "\t<tr><th scope=row>ISAPRE_ORIGEN</th><td>  980.2515</td></tr>\n",
       "\t<tr><th scope=row>CON_COMPLEMENTOS</th><td>  836.0342</td></tr>\n",
       "\t<tr><th scope=row>NUMERO_COMPLEMENTOS</th><td> 2707.6210</td></tr>\n",
       "\t<tr><th scope=row>SEXO</th><td>  448.5414</td></tr>\n",
       "\t<tr><th scope=row>SINIESTRALIDAD</th><td> 7517.2879</td></tr>\n",
       "\t<tr><th scope=row>TIPO_CONTRATO</th><td>  510.5898</td></tr>\n",
       "\t<tr><th scope=row>EDAD</th><td> 7219.8105</td></tr>\n",
       "</tbody>\n",
       "</table>\n"
      ],
      "text/latex": [
       "\\begin{tabular}{r|l}\n",
       "  & MeanDecreaseGini\\\\\n",
       "\\hline\n",
       "\tTIPO\\_PLAN &  1568.8883\\\\\n",
       "\tBENEF &   840.0163\\\\\n",
       "\tRANGO\\_PACTADO &  1925.0750\\\\\n",
       "\tPACT\\_BENEF &  9138.1668\\\\\n",
       "\tTIPIFICACION &   575.5643\\\\\n",
       "\tPERMANENCIA\\_BENEFICIOS &  8993.5789\\\\\n",
       "\tMESES\\_RESTANTES\\_ANUALIDAD &  4394.3677\\\\\n",
       "\tSEGMENTO &   368.7214\\\\\n",
       "\tSEGMENTO\\_COMPLETO &  1719.0779\\\\\n",
       "\tENTRADAS\\_SUC\\_3M &  3290.9451\\\\\n",
       "\tTIPO\\_TRABAJADOR &   720.8177\\\\\n",
       "\tRENTA & 10824.6017\\\\\n",
       "\tMAX\\_CONTACTABILIDAD &  1250.3937\\\\\n",
       "\tISAPRE\\_ORIGEN &   980.2515\\\\\n",
       "\tCON\\_COMPLEMENTOS &   836.0342\\\\\n",
       "\tNUMERO\\_COMPLEMENTOS &  2707.6210\\\\\n",
       "\tSEXO &   448.5414\\\\\n",
       "\tSINIESTRALIDAD &  7517.2879\\\\\n",
       "\tTIPO\\_CONTRATO &   510.5898\\\\\n",
       "\tEDAD &  7219.8105\\\\\n",
       "\\end{tabular}\n"
      ],
      "text/markdown": [
       "\n",
       "| <!--/--> | MeanDecreaseGini | \n",
       "|---|---|---|---|---|---|---|---|---|---|---|---|---|---|---|---|---|---|---|---|\n",
       "| TIPO_PLAN |  1568.8883 | \n",
       "| BENEF |   840.0163 | \n",
       "| RANGO_PACTADO |  1925.0750 | \n",
       "| PACT_BENEF |  9138.1668 | \n",
       "| TIPIFICACION |   575.5643 | \n",
       "| PERMANENCIA_BENEFICIOS |  8993.5789 | \n",
       "| MESES_RESTANTES_ANUALIDAD |  4394.3677 | \n",
       "| SEGMENTO |   368.7214 | \n",
       "| SEGMENTO_COMPLETO |  1719.0779 | \n",
       "| ENTRADAS_SUC_3M |  3290.9451 | \n",
       "| TIPO_TRABAJADOR |   720.8177 | \n",
       "| RENTA | 10824.6017 | \n",
       "| MAX_CONTACTABILIDAD |  1250.3937 | \n",
       "| ISAPRE_ORIGEN |   980.2515 | \n",
       "| CON_COMPLEMENTOS |   836.0342 | \n",
       "| NUMERO_COMPLEMENTOS |  2707.6210 | \n",
       "| SEXO |   448.5414 | \n",
       "| SINIESTRALIDAD |  7517.2879 | \n",
       "| TIPO_CONTRATO |   510.5898 | \n",
       "| EDAD |  7219.8105 | \n",
       "\n",
       "\n"
      ],
      "text/plain": [
       "                          MeanDecreaseGini\n",
       "TIPO_PLAN                  1568.8883      \n",
       "BENEF                       840.0163      \n",
       "RANGO_PACTADO              1925.0750      \n",
       "PACT_BENEF                 9138.1668      \n",
       "TIPIFICACION                575.5643      \n",
       "PERMANENCIA_BENEFICIOS     8993.5789      \n",
       "MESES_RESTANTES_ANUALIDAD  4394.3677      \n",
       "SEGMENTO                    368.7214      \n",
       "SEGMENTO_COMPLETO          1719.0779      \n",
       "ENTRADAS_SUC_3M            3290.9451      \n",
       "TIPO_TRABAJADOR             720.8177      \n",
       "RENTA                     10824.6017      \n",
       "MAX_CONTACTABILIDAD        1250.3937      \n",
       "ISAPRE_ORIGEN               980.2515      \n",
       "CON_COMPLEMENTOS            836.0342      \n",
       "NUMERO_COMPLEMENTOS        2707.6210      \n",
       "SEXO                        448.5414      \n",
       "SINIESTRALIDAD             7517.2879      \n",
       "TIPO_CONTRATO               510.5898      \n",
       "EDAD                       7219.8105      "
      ]
     },
     "metadata": {},
     "output_type": "display_data"
    },
    {
     "data": {
      "image/png": "[encoded data removed]",
      "text/plain": [
       "Plot with title “”"
      ]
     },
     "metadata": {},
     "output_type": "display_data"
    }
   ],
   "source": [
    "#Importancia de variables en modelo\n",
    "importance(modelo)\n",
    "varImpPlot(modelo, type=2, pch=19, col=1, cex=.5, main=\"\")  #grafica importancia de variables"
   ]
  },
  {
   "cell_type": "code",
   "execution_count": null,
   "metadata": {},
   "outputs": [],
   "source": [
    "table(datos.test$TIPIFICACION)"
   ]
  },
  {
   "cell_type": "code",
   "execution_count": 13,
   "metadata": {},
   "outputs": [],
   "source": [
    "#Base de testeo nueva de ser requerida\n",
    "datos.test <- read.table(\"DS201807.csv\", sep = \";\", header = TRUE)"
   ]
  },
  {
   "cell_type": "code",
   "execution_count": null,
   "metadata": {},
   "outputs": [],
   "source": [
    "summary(datos.test)"
   ]
  },
  {
   "cell_type": "code",
   "execution_count": 12,
   "metadata": {},
   "outputs": [
    {
     "data": {
      "text/plain": [
       "    \n",
       "       FALSE    TRUE\n",
       "  NO 1675484   59207\n",
       "  SI     388   66063"
      ]
     },
     "metadata": {},
     "output_type": "display_data"
    },
    {
     "data": {
      "text/html": [
       "52.7364891833639"
      ],
      "text/latex": [
       "52.7364891833639"
      ],
      "text/markdown": [
       "52.7364891833639"
      ],
      "text/plain": [
       "[1] 52.73649"
      ]
     },
     "metadata": {},
     "output_type": "display_data"
    },
    {
     "data": {
      "text/html": [
       "96.6912658746506"
      ],
      "text/latex": [
       "96.6912658746506"
      ],
      "text/markdown": [
       "96.6912658746506"
      ],
      "text/plain": [
       "[1] 96.69127"
      ]
     },
     "metadata": {},
     "output_type": "display_data"
    },
    {
     "data": {
      "text/html": [
       "99.4161111194715"
      ],
      "text/latex": [
       "99.4161111194715"
      ],
      "text/markdown": [
       "99.4161111194715"
      ],
      "text/plain": [
       "[1] 99.41611"
      ]
     },
     "metadata": {},
     "output_type": "display_data"
    },
    {
     "data": {
      "text/html": [
       "6.95503186311796"
      ],
      "text/latex": [
       "6.95503186311796"
      ],
      "text/markdown": [
       "6.95503186311796"
      ],
      "text/plain": [
       "[1] 6.955032"
      ]
     },
     "metadata": {},
     "output_type": "display_data"
    }
   ],
   "source": [
    "#Predicción con probabilidades (corte dado)\n",
    "Prediccion     <- predict(modelo,datos.train,type=\"p\")\n",
    "#Matriz de confusión\n",
    "MC             <-table(datos.train[, \"DESAF\"],Prediccion[,\"SI\"] > .7);MC\n",
    "Precision     <-((MC[2,2])/(MC[2,2]+MC[1,2]))*100;Precision\n",
    "exactitud     <-(MC[2,2]+MC[1,1])/(MC[2,2]+MC[1,2]+MC[1,1]+MC[2,1])*100;exactitud\n",
    "Recall       <-(MC[2,2]/(MC[2,2]+MC[2,1]))*100;Recall\n",
    "tasa.pred = (MC[1,2]+MC[2,2])/(MC[2,2]+MC[1,2]+MC[1,1]+MC[2,1])*100; tasa.pred"
   ]
  },
  {
   "cell_type": "code",
   "execution_count": 16,
   "metadata": {},
   "outputs": [
    {
     "data": {
      "text/plain": [
       "    \n",
       "      FALSE   TRUE\n",
       "  NO 141691  17464\n",
       "  SI    697   5673"
      ]
     },
     "metadata": {},
     "output_type": "display_data"
    },
    {
     "data": {
      "text/html": [
       "24.5191684315166"
      ],
      "text/latex": [
       "24.5191684315166"
      ],
      "text/markdown": [
       "24.5191684315166"
      ],
      "text/plain": [
       "[1] 24.51917"
      ]
     },
     "metadata": {},
     "output_type": "display_data"
    },
    {
     "data": {
      "text/html": [
       "89.0282434677541"
      ],
      "text/latex": [
       "89.0282434677541"
      ],
      "text/markdown": [
       "89.0282434677541"
      ],
      "text/plain": [
       "[1] 89.02824"
      ]
     },
     "metadata": {},
     "output_type": "display_data"
    },
    {
     "data": {
      "text/html": [
       "89.0580847723705"
      ],
      "text/latex": [
       "89.0580847723705"
      ],
      "text/markdown": [
       "89.0580847723705"
      ],
      "text/plain": [
       "[1] 89.05808"
      ]
     },
     "metadata": {},
     "output_type": "display_data"
    },
    {
     "data": {
      "text/html": [
       "13.9779489503096"
      ],
      "text/latex": [
       "13.9779489503096"
      ],
      "text/markdown": [
       "13.9779489503096"
      ],
      "text/plain": [
       "[1] 13.97795"
      ]
     },
     "metadata": {},
     "output_type": "display_data"
    }
   ],
   "source": [
    "#Predicción con probabilidades (corte dado)\n",
    "Prediccion     <- predict(modelo,datos.test,type=\"p\")\n",
    "#Matriz de confusión\n",
    "MC             <-table(datos.test[, \"DESAF\"],Prediccion[,\"SI\"] > .6);MC\n",
    "Precision     <-((MC[2,2])/(MC[2,2]+MC[1,2]))*100;Precision\n",
    "exactitud     <-(MC[2,2]+MC[1,1])/(MC[2,2]+MC[1,2]+MC[1,1]+MC[2,1])*100;exactitud\n",
    "Recall       <-(MC[2,2]/(MC[2,2]+MC[2,1]))*100;Recall\n",
    "tasa.pred = (MC[1,2]+MC[2,2])/(MC[2,2]+MC[1,2]+MC[1,1]+MC[2,1])*100; tasa.pred"
   ]
  },
  {
   "cell_type": "code",
   "execution_count": null,
   "metadata": {},
   "outputs": [],
   "source": []
  }
 ],
 "metadata": {
  "kernelspec": {
   "display_name": "R",
   "language": "R",
   "name": "ir"
  },
  "language_info": {
   "codemirror_mode": "r",
   "file_extension": ".r",
   "mimetype": "text/x-r-source",
   "name": "R",
   "pygments_lexer": "r",
   "version": "3.5.0"
  }
 },
 "nbformat": 4,
 "nbformat_minor": 2
}
